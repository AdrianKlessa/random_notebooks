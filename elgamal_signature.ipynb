{
 "cells": [
  {
   "metadata": {},
   "cell_type": "markdown",
   "source": [
    "### ElGamal signature scheme\n",
    "The ElGamal signature scheme was described in 1985 and uses the discrete logarithm problem as the \"trapdoor\", utilizing the fact that in modular arithmetic exponentiation is easy but its inverse (logarithms) are difficult to calculate.\n",
    "\n",
    "This particular scheme is rarely used in practice - DSA is a modified variant that's used more often, though even that was superseded by variants based on elliptic curves. Moreover, with the increasing power of quantum computers, [Dilithium](https://www.ibm.com/docs/en/zos/2.5.0?topic=cryptography-crystals-dilithium-digital-signature-algorithm) was chosen as the preferred post-quantum signature scheme. Nevertheless, it's a good starting point to learn how digital signatures (may) work.\n"
   ],
   "id": "786ee644e8e5d5c1"
  },
  {
   "metadata": {},
   "cell_type": "markdown",
   "source": [
    "### Disclaimer: this code is not safe for real-world use\n",
    "\n",
    "The implementations are for educational purposes\n",
    "\n",
    "They are slow and surely vulnerable to various attacks"
   ],
   "id": "765ddc60066f5ebe"
  },
  {
   "metadata": {},
   "cell_type": "markdown",
   "source": "First, we'll need a couple functions for generating prime numbers and getting modular inverses. I'll copy these from [a previous project](https://github.com/AdrianKlessa/ecc_elgamal/blob/main/ecc%20elgamal.ipynb).",
   "id": "72a158321d65d452"
  },
  {
   "metadata": {},
   "cell_type": "code",
   "outputs": [],
   "execution_count": null,
   "source": [
    "import math\n",
    "import random\n",
    "\n",
    "def GCD(a,b):\n",
    "    while b:\n",
    "        a,b = b, a%b\n",
    "    return abs(a)\n",
    "\n",
    "# Used to make sure the numbers we work with are sufficiently large\n",
    "def random_nbit_number(k):\n",
    "\n",
    "    smallest_possible = 2**(k-1)\n",
    "    largest_possible = (2**k)-1\n",
    "    return random.randint(smallest_possible,largest_possible)\n",
    "\n",
    "# Returns true if result is probably prime\n",
    "# There is always at least one prime between k and 2k (Bertrand's postulate)\n",
    "def fermat_test(x, trials):\n",
    "    for i in range(trials):\n",
    "        a = random.randrange(2,x-1)\n",
    "        d = GCD(a,x)\n",
    "        if d!=1:\n",
    "            return False\n",
    "        else:\n",
    "            a_power = pow(a,x-1,x)\n",
    "            if a_power!=1:\n",
    "                return False\n",
    "    return True\n",
    "\n",
    "def extendedGCD(a,b):\n",
    "    r,r1=a,b\n",
    "    s,s1=1,0\n",
    "    t,t1=0,1\n",
    "    while r1!=0:\n",
    "        q,r2=r//r1,r % r1\n",
    "        r,s,t,r1,s1,t1=r1,s1,t1,r2,s-s1*q,t-t1*q\n",
    "    d=r\n",
    "    return d,s,t\n",
    "\n",
    "# Multiplicative inverse of a, modulo m\n",
    "def multiplicative_inverse(a,m):\n",
    "    d,inv,_=extendedGCD(a,m)\n",
    "    if d==1:\n",
    "        if m==1:\n",
    "            return 1 #for compatibility\n",
    "        return inv%m\n",
    "    else:\n",
    "        raise ValueError('Numbers '+str(a)+' and '+str(m)+' are not coprime.')\n"
   ],
   "id": "7e4f5a184b526c94"
  },
  {
   "metadata": {},
   "cell_type": "markdown",
   "source": [
    "We need to find a prime number p and a generator for the group Z_mod(p)\n",
    "\n",
    "We'll find these by using safe primes"
   ],
   "id": "2dc913ad647b7aaf"
  },
  {
   "metadata": {},
   "cell_type": "code",
   "outputs": [],
   "execution_count": null,
   "source": [
    "N = 512 # Signatures in this scheme are notoriously large\n",
    "q = random_nbit_number(N)\n",
    "while fermat_test(q, 32)==False or fermat_test((2*q)+1, 32)==False:\n",
    "    q = random_nbit_number(N)\n",
    "p=(2*q)+1"
   ],
   "id": "798e1c6e1938c63a"
  },
  {
   "metadata": {},
   "cell_type": "markdown",
   "source": [
    "The above cell took 30s on a relatively strong CPU, and we should actually be using N=2048 but for such large numbers this implementation was too slow.\n",
    "\n",
    "This is one of the advantages of DSA, because it uses an explicit formula for the generator (and has smaller signatures)."
   ],
   "id": "5d0375351a9617e6"
  },
  {
   "metadata": {},
   "cell_type": "code",
   "outputs": [],
   "execution_count": null,
   "source": "p",
   "id": "f178cce8835984ee"
  },
  {
   "metadata": {},
   "cell_type": "code",
   "outputs": [],
   "execution_count": null,
   "source": "q",
   "id": "479bc6ad718d9fb6"
  },
  {
   "metadata": {},
   "cell_type": "markdown",
   "source": [
    "The order of a group modulo prime p is p-1. By definition, the generator will have the same order (p-1).\n",
    "\n",
    "We can use the fact that the order of an element in a group divides the order of the group to quickly check if an element is the generator.\n",
    "\n",
    "Since we're using safe primes, the order of the group is p-1=2q (because p=2q+1). Because q is also prime, the only possible orders for an element are 2, q and 2q."
   ],
   "id": "78af12afbb36f217"
  },
  {
   "metadata": {},
   "cell_type": "code",
   "outputs": [],
   "execution_count": null,
   "source": [
    "def find_generator_for_safe_prime(prime_p: int)->int:\n",
    "    g = random.randint(2,p-1)\n",
    "    while pow(g,2, prime_p)==1 or pow(g,q, prime_p)==1:\n",
    "        g = random.randint(2,p-1)\n",
    "    assert pow(g,(p-1), prime_p)==1\n",
    "    return g\n",
    "\n",
    "g = find_generator_for_safe_prime(p)"
   ],
   "id": "6769b8683142513"
  },
  {
   "metadata": {},
   "cell_type": "code",
   "outputs": [],
   "execution_count": null,
   "source": "g",
   "id": "6592f5faffadf8b4"
  },
  {
   "metadata": {},
   "cell_type": "code",
   "outputs": [],
   "execution_count": null,
   "source": "pow(g,(p-1), p)",
   "id": "3b451cbfbed4bdec"
  },
  {
   "metadata": {},
   "cell_type": "markdown",
   "source": "### Key generation",
   "id": "1f567412d779c7d5"
  },
  {
   "metadata": {},
   "cell_type": "code",
   "outputs": [],
   "execution_count": null,
   "source": [
    "def generate_keys(prime_p: int, generator: int)->tuple:\n",
    "    x = random.randint(1,prime_p-2)\n",
    "    y = pow(generator,x,prime_p)\n",
    "    return x,y"
   ],
   "id": "1774af8b521851b5"
  },
  {
   "metadata": {},
   "cell_type": "code",
   "outputs": [],
   "execution_count": null,
   "source": [
    "x, y = generate_keys(p,g)\n",
    "\n",
    "print(f\"Private key: {x}\")\n",
    "print(f\"Public key: {y}\")"
   ],
   "id": "b35b687991353d7f"
  },
  {
   "metadata": {},
   "cell_type": "markdown",
   "source": "We'll be using SHA-256 as the hash function",
   "id": "5d8852a4b39d7de4"
  },
  {
   "metadata": {},
   "cell_type": "markdown",
   "source": "### Signature generation & validation",
   "id": "bcd012b1b5488478"
  },
  {
   "metadata": {},
   "cell_type": "code",
   "outputs": [],
   "execution_count": null,
   "source": [
    "from hashlib import sha256\n",
    "\n",
    "N_bytes_count = N//8\n",
    "\n",
    "def get_shortened_hash(message: bytes):\n",
    "    message_hash = sha256(message).digest()[:N_bytes_count]\n",
    "    return int.from_bytes(message_hash, 'big')\n",
    "\n",
    "def sign(message: bytes, generator: int, prime_p: int, private_key: int)->tuple:\n",
    "    k = random.randint(2, prime_p-2)\n",
    "    r = pow(generator,k,prime_p)\n",
    "\n",
    "    message_hash = get_shortened_hash(message)\n",
    "    s = (message_hash-private_key*r)\n",
    "    s = s*multiplicative_inverse(k,prime_p-1) % (p-1)\n",
    "    return r,s\n",
    "\n",
    "def verify_signature(message:bytes, signature:tuple, public_key: int, prime_p: int, generator:int)->bool:\n",
    "    r,s = signature\n",
    "    if not 0 < r < prime_p:\n",
    "        print(\"Invalid r\")\n",
    "        return False\n",
    "    if not 0< s < prime_p-1:\n",
    "        print(\"Invalid s\")\n",
    "        return False\n",
    "    message_hash = get_shortened_hash(message)\n",
    "    left = pow(generator,message_hash,prime_p)\n",
    "    right = pow(public_key,r, prime_p)*pow(r,s,prime_p)\n",
    "    right = right % prime_p\n",
    "    return left == right\n"
   ],
   "id": "32c93cac2d9dcaa9"
  },
  {
   "metadata": {},
   "cell_type": "code",
   "outputs": [],
   "execution_count": null,
   "source": "signature = sign(b\"Let's see if this works\", g, p, x)",
   "id": "3a716d42bc442973"
  },
  {
   "metadata": {},
   "cell_type": "code",
   "outputs": [],
   "execution_count": null,
   "source": "signature",
   "id": "6beb70c5f14e6964"
  },
  {
   "metadata": {},
   "cell_type": "code",
   "outputs": [],
   "execution_count": null,
   "source": "verify_signature(b\"Let's see if this works\", signature, y, p, g)",
   "id": "c985c622fd48c7ad"
  },
  {
   "metadata": {},
   "cell_type": "code",
   "outputs": [],
   "execution_count": null,
   "source": "verify_signature(b\"Let's see if this works with a modified message\", signature, y, p, g)",
   "id": "e1065412dab9733f"
  },
  {
   "metadata": {},
   "cell_type": "code",
   "outputs": [],
   "execution_count": null,
   "source": "verify_signature(b\"Invalid_signature\", (3, 17), y, p, g)",
   "id": "dd707890fd309279"
  },
  {
   "metadata": {},
   "cell_type": "code",
   "outputs": [],
   "execution_count": null,
   "source": "",
   "id": "2a50ace464a9ab22"
  }
 ],
 "metadata": {},
 "nbformat": 5,
 "nbformat_minor": 9
}
